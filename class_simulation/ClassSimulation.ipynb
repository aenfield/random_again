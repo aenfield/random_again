{
 "cells": [
  {
   "cell_type": "code",
   "execution_count": 237,
   "metadata": {},
   "outputs": [],
   "source": [
    "import random\n",
    "import math\n",
    "\n",
    "import pandas as pd\n",
    "import numpy as np\n",
    "import matplotlib.pyplot as plt"
   ]
  },
  {
   "cell_type": "markdown",
   "metadata": {},
   "source": [
    "# What\n",
    "\n",
    "If there are a certain number of classes for each grade, and all of the kids are randomly assigned to a class each year, how long does it take before most/all students been in the same class with most/all of the other kids? \n",
    "\n",
    "Let's build a simulation and see.   "
   ]
  },
  {
   "cell_type": "markdown",
   "metadata": {},
   "source": [
    "# Data structures"
   ]
  },
  {
   "cell_type": "markdown",
   "metadata": {},
   "source": [
    "Let's represent the kids in class as a list of numbers, where each kid has a number. This lets us add new kids and remove other kids just by adding and removing numbers from the list. We'll start counting at 1, leaving 0 to signify other things if we want."
   ]
  },
  {
   "cell_type": "code",
   "execution_count": 216,
   "metadata": {},
   "outputs": [],
   "source": [
    "# constants\n",
    "NUMBER_KIDS_START = 20\n",
    "NUMBER_CLASSES = 2"
   ]
  },
  {
   "cell_type": "code",
   "execution_count": 217,
   "metadata": {},
   "outputs": [
    {
     "data": {
      "text/plain": [
       "[1, 2, 3, 4, 5, 6, 7, 8, 9, 10, 11, 12, 13, 14, 15, 16, 17, 18, 19, 20]"
      ]
     },
     "execution_count": 217,
     "metadata": {},
     "output_type": "execute_result"
    }
   ],
   "source": [
    "kids = list(range(1, NUMBER_KIDS_START + 1))\n",
    "kids"
   ]
  },
  {
   "cell_type": "markdown",
   "metadata": {},
   "source": [
    "# Simulate class assignment"
   ]
  },
  {
   "cell_type": "markdown",
   "metadata": {},
   "source": [
    "We'll write a function that takes a list of kids and a number of classes and randomly assigns kids to each class, returning a list of lists with a list per class. If there are fewer kids than the number of classes would need, both classes are reduced in size/get approximately the same number of students (within one)."
   ]
  },
  {
   "cell_type": "code",
   "execution_count": 218,
   "metadata": {},
   "outputs": [],
   "source": [
    "def assign_kids(kids, number_of_classes):\n",
    "    kids_working = kids.copy()\n",
    "    classes = [ [] for i in range(number_of_classes)]\n",
    "    kids_per_class = math.ceil(len(kids_working) / number_of_classes)\n",
    "    \n",
    "    for i in range(len(classes)):\n",
    "        #print(i), print(len(kids_working))\n",
    "        if len(kids_working) < kids_per_class:\n",
    "            kids_per_class = len(kids_working)\n",
    "            \n",
    "        classes[i] = random.sample(kids_working, kids_per_class)\n",
    "        kids_working = [kid for kid in kids_working if kid not in classes[i]]  \n",
    "        \n",
    "    return classes"
   ]
  },
  {
   "cell_type": "code",
   "execution_count": 219,
   "metadata": {},
   "outputs": [
    {
     "data": {
      "text/plain": [
       "[[3, 4, 17, 19, 20, 12, 16, 5, 15, 14], [7, 6, 18, 2, 13, 1, 8, 9, 11, 10]]"
      ]
     },
     "execution_count": 219,
     "metadata": {},
     "output_type": "execute_result"
    }
   ],
   "source": [
    "assign_kids(kids, 2)"
   ]
  },
  {
   "cell_type": "code",
   "execution_count": 220,
   "metadata": {},
   "outputs": [
    {
     "data": {
      "text/plain": [
       "[[7, 3, 16, 5, 12, 19, 15, 9, 10, 18], [1, 14, 13, 11, 17, 6, 8, 2, 20, 4]]"
      ]
     },
     "execution_count": 220,
     "metadata": {},
     "output_type": "execute_result"
    }
   ],
   "source": [
    "assign_kids(kids, 2)"
   ]
  },
  {
   "cell_type": "code",
   "execution_count": 221,
   "metadata": {},
   "outputs": [
    {
     "data": {
      "text/plain": [
       "[[5, 12, 11, 2, 10, 18, 9], [14, 19, 13, 15, 8, 17, 4], [7, 16, 6, 1, 20, 3]]"
      ]
     },
     "execution_count": 221,
     "metadata": {},
     "output_type": "execute_result"
    }
   ],
   "source": [
    "assign_kids(kids, 3)"
   ]
  },
  {
   "cell_type": "code",
   "execution_count": 222,
   "metadata": {},
   "outputs": [
    {
     "data": {
      "text/plain": [
       "[[3, 1, 2], [5, 4]]"
      ]
     },
     "execution_count": 222,
     "metadata": {},
     "output_type": "execute_result"
    }
   ],
   "source": [
    "assign_kids([1, 2, 3, 4, 5], 2)"
   ]
  },
  {
   "cell_type": "markdown",
   "metadata": {},
   "source": [
    "# First cut at multiple years, without kids coming or going"
   ]
  },
  {
   "cell_type": "code",
   "execution_count": 269,
   "metadata": {},
   "outputs": [
    {
     "data": {
      "text/plain": [
       "[[[2, 5, 10, 13, 6, 4, 1, 3, 18, 17], [14, 16, 19, 11, 12, 15, 9, 8, 20, 7]],\n",
       " [[4, 5, 20, 6, 14, 17, 12, 8, 11, 18], [9, 1, 7, 19, 2, 10, 16, 3, 13, 15]],\n",
       " [[3, 20, 14, 10, 6, 1, 12, 13, 5, 4], [16, 17, 7, 2, 11, 18, 15, 19, 9, 8]]]"
      ]
     },
     "execution_count": 269,
     "metadata": {},
     "output_type": "execute_result"
    }
   ],
   "source": [
    "NUMBER_OF_YEARS = 3\n",
    "\n",
    "classes_by_year = [ [] for i in range(NUMBER_OF_YEARS)]\n",
    "\n",
    "for i in range(len(classes_by_year)):\n",
    "    classes_by_year[i] = assign_kids(kids, NUMBER_CLASSES)\n",
    "    \n",
    "classes_by_year"
   ]
  },
  {
   "cell_type": "markdown",
   "metadata": {},
   "source": [
    "# Some basic analysis using the data"
   ]
  },
  {
   "cell_type": "markdown",
   "metadata": {},
   "source": [
    "For each kid, how many other kids have been in their class? For this, let's try checking, for each kid/number, how many other numbers have been in the same list with them."
   ]
  },
  {
   "cell_type": "code",
   "execution_count": 270,
   "metadata": {},
   "outputs": [],
   "source": [
    "def flatten_list(l):\n",
    "    return sum(l, [])"
   ]
  },
  {
   "cell_type": "code",
   "execution_count": 271,
   "metadata": {},
   "outputs": [
    {
     "data": {
      "text/plain": [
       "[1, 2, 3, 4]"
      ]
     },
     "execution_count": 271,
     "metadata": {},
     "output_type": "execute_result"
    }
   ],
   "source": [
    "flatten_list([ [1, 2], [3, 4]])"
   ]
  },
  {
   "cell_type": "code",
   "execution_count": 272,
   "metadata": {},
   "outputs": [
    {
     "data": {
      "text/plain": [
       "[[2, 5, 10, 13, 6, 4, 1, 3, 18, 17],\n",
       " [14, 16, 19, 11, 12, 15, 9, 8, 20, 7],\n",
       " [4, 5, 20, 6, 14, 17, 12, 8, 11, 18],\n",
       " [9, 1, 7, 19, 2, 10, 16, 3, 13, 15],\n",
       " [3, 20, 14, 10, 6, 1, 12, 13, 5, 4],\n",
       " [16, 17, 7, 2, 11, 18, 15, 19, 9, 8]]"
      ]
     },
     "execution_count": 272,
     "metadata": {},
     "output_type": "execute_result"
    }
   ],
   "source": [
    "flatten_list(classes_by_year)"
   ]
  },
  {
   "cell_type": "code",
   "execution_count": 273,
   "metadata": {},
   "outputs": [],
   "source": [
    "def get_kids_with_this_kid(this_kid, classes_by_year):\n",
    "    kids_with_this_kid = set()\n",
    "\n",
    "    for this_class in flatten_list(classes_by_year):\n",
    "        # is this kid in this class? if yes, we'll remember which kids are in the same class \n",
    "        if this_kid in this_class:\n",
    "            kids_with_this_kid.update(this_class)\n",
    "\n",
    "    # and remove the kid from the set, since he's not in class with himself\n",
    "    kids_with_this_kid.remove(this_kid)\n",
    "\n",
    "    return kids_with_this_kid"
   ]
  },
  {
   "cell_type": "code",
   "execution_count": 274,
   "metadata": {},
   "outputs": [
    {
     "data": {
      "text/plain": [
       "{1, 2, 3, 4, 6, 8, 10, 11, 12, 13, 14, 17, 18, 20}"
      ]
     },
     "execution_count": 274,
     "metadata": {},
     "output_type": "execute_result"
    }
   ],
   "source": [
    "get_kids_with_this_kid(5, classes_by_year)"
   ]
  },
  {
   "cell_type": "code",
   "execution_count": 275,
   "metadata": {},
   "outputs": [
    {
     "data": {
      "text/plain": [
       "{1, 2, 3, 4, 5, 8, 10, 11, 12, 13, 14, 17, 18, 20}"
      ]
     },
     "execution_count": 275,
     "metadata": {},
     "output_type": "execute_result"
    }
   ],
   "source": [
    "get_kids_with_this_kid(6, classes_by_year)"
   ]
  },
  {
   "cell_type": "code",
   "execution_count": 276,
   "metadata": {},
   "outputs": [
    {
     "data": {
      "text/plain": [
       "{1, 2, 3, 8, 9, 10, 11, 12, 13, 14, 15, 16, 17, 18, 19, 20}"
      ]
     },
     "execution_count": 276,
     "metadata": {},
     "output_type": "execute_result"
    }
   ],
   "source": [
    "get_kids_with_this_kid(7, classes_by_year)"
   ]
  },
  {
   "cell_type": "markdown",
   "metadata": {},
   "source": [
    "In just one run/one set of years, what's the distribution of counts of kids?"
   ]
  },
  {
   "cell_type": "code",
   "execution_count": 277,
   "metadata": {},
   "outputs": [
    {
     "data": {
      "text/plain": [
       "[17,\n",
       " 16,\n",
       " 17,\n",
       " 14,\n",
       " 14,\n",
       " 14,\n",
       " 16,\n",
       " 15,\n",
       " 16,\n",
       " 17,\n",
       " 15,\n",
       " 18,\n",
       " 17,\n",
       " 18,\n",
       " 16,\n",
       " 16,\n",
       " 19,\n",
       " 19,\n",
       " 16,\n",
       " 18]"
      ]
     },
     "execution_count": 277,
     "metadata": {},
     "output_type": "execute_result"
    }
   ],
   "source": [
    "counts_of_classmates = [len(get_kids_with_this_kid(kid, classes_by_year)) for kid in kids]\n",
    "counts_of_classmates"
   ]
  },
  {
   "cell_type": "code",
   "execution_count": 278,
   "metadata": {},
   "outputs": [
    {
     "data": {
      "text/plain": [
       "(array([3., 0., 2., 0., 6., 0., 4., 0., 3., 2.]),\n",
       " array([14. , 14.5, 15. , 15.5, 16. , 16.5, 17. , 17.5, 18. , 18.5, 19. ]),\n",
       " <a list of 10 Patch objects>)"
      ]
     },
     "execution_count": 278,
     "metadata": {},
     "output_type": "execute_result"
    },
    {
     "data": {
      "image/png": "[encoded data removed]",
      "text/plain": [
       "<Figure size 432x288 with 1 Axes>"
      ]
     },
     "metadata": {
      "needs_background": "light"
     },
     "output_type": "display_data"
    }
   ],
   "source": [
    "plt.hist(counts_of_classmates)"
   ]
  },
  {
   "cell_type": "markdown",
   "metadata": {},
   "source": [
    "# Put it all together"
   ]
  },
  {
   "cell_type": "markdown",
   "metadata": {},
   "source": [
    "(Yeah, I copied and pasted - this was quick so I could show Willie everything in one fell swoop.)"
   ]
  },
  {
   "cell_type": "code",
   "execution_count": 291,
   "metadata": {},
   "outputs": [
    {
     "name": "stdout",
     "output_type": "stream",
     "text": [
      "56\n",
      "[1, 2, 3, 4, 5, 6, 7, 8, 9, 10, 11, 12, 13, 14, 15, 16, 17, 18, 19, 20, 21, 22, 23, 24, 25, 26, 27, 28, 29, 30, 31, 32, 33, 34, 35, 36, 37, 38, 39, 40, 41, 42, 43, 44, 45, 46, 47, 48, 49, 50, 51, 52, 53, 54, 55, 56]\n",
      "[[[55, 19, 33, 50, 53, 37, 13, 34, 16, 24, 25, 42, 2, 17, 29, 48, 36, 21, 18, 14, 41, 44, 49, 35, 27, 3, 10, 52], [28, 7, 9, 22, 11, 39, 38, 32, 31, 47, 15, 6, 5, 51, 23, 1, 30, 40, 8, 56, 45, 12, 4, 46, 54, 20, 26, 43]], [[53, 24, 36, 25, 8, 18, 51, 47, 30, 54, 12, 31, 21, 52, 46, 13, 14, 26, 5, 50, 48, 2, 32, 35, 55, 29, 40, 33], [38, 19, 42, 17, 44, 9, 6, 28, 22, 41, 49, 39, 10, 4, 7, 1, 45, 15, 3, 23, 11, 16, 37, 43, 56, 27, 20, 34]], [[54, 30, 50, 48, 29, 16, 11, 15, 36, 6, 2, 26, 13, 46, 52, 33, 55, 47, 32, 44, 27, 49, 35, 12, 34, 40, 3, 8], [21, 10, 51, 19, 25, 4, 22, 23, 28, 24, 53, 14, 42, 1, 37, 17, 5, 56, 9, 39, 43, 18, 45, 41, 38, 7, 31, 20]], [[53, 52, 36, 16, 6, 49, 23, 7, 1, 13, 26, 38, 8, 3, 34, 10, 25, 35, 46, 48, 50, 32, 31, 28, 5, 21, 14, 43], [2, 11, 30, 15, 19, 20, 55, 56, 45, 39, 18, 37, 12, 47, 54, 41, 22, 24, 17, 4, 27, 44, 33, 51, 42, 9, 29, 40]], [[48, 33, 51, 4, 10, 18, 17, 55, 26, 34, 7, 50, 52, 27, 43, 49, 21, 30, 39, 12, 3, 15, 2, 6, 37, 38, 9, 31], [29, 11, 54, 25, 36, 5, 8, 23, 35, 32, 46, 22, 13, 53, 40, 14, 56, 45, 42, 19, 44, 1, 41, 47, 20, 24, 16, 28]], [[36, 44, 5, 3, 46, 10, 4, 7, 47, 51, 1, 20, 40, 32, 9, 16, 28, 42, 52, 53, 34, 17, 31, 41, 15, 18, 6, 14], [26, 30, 22, 35, 12, 49, 24, 23, 43, 55, 48, 33, 27, 2, 38, 13, 8, 54, 19, 29, 21, 56, 37, 11, 25, 50, 39, 45]]]\n",
      "[52, 53, 55, 53, 54, 54, 54, 54, 53, 54, 55, 55, 53, 55, 54, 55, 54, 55, 55, 53, 55, 54, 55, 54, 54, 53, 54, 52, 54, 55, 55, 54, 53, 55, 53, 54, 53, 55, 54, 55, 54, 54, 55, 55, 54, 54, 55, 54, 55, 54, 55, 52, 55, 54, 53, 54]\n"
     ]
    },
    {
     "data": {
      "text/plain": [
       "(array([ 3.,  0.,  0., 10.,  0.,  0., 23.,  0.,  0., 20.]),\n",
       " array([52. , 52.3, 52.6, 52.9, 53.2, 53.5, 53.8, 54.1, 54.4, 54.7, 55. ]),\n",
       " <a list of 10 Patch objects>)"
      ]
     },
     "execution_count": 291,
     "metadata": {},
     "output_type": "execute_result"
    },
    {
     "data": {
      "image/png": "[encoded data removed]",
      "text/plain": [
       "<Figure size 432x288 with 1 Axes>"
      ]
     },
     "metadata": {
      "needs_background": "light"
     },
     "output_type": "display_data"
    }
   ],
   "source": [
    "NUMBER_CLASSES = 2\n",
    "NUMBER_KIDS_START = NUMBER_CLASSES * 28\n",
    "NUMBER_OF_YEARS = 6\n",
    "\n",
    "print(NUMBER_KIDS_START)\n",
    "\n",
    "kids = list(range(1, NUMBER_KIDS_START + 1))\n",
    "print(kids)\n",
    "\n",
    "classes_by_year = [ [] for i in range(NUMBER_OF_YEARS)]\n",
    "\n",
    "for i in range(len(classes_by_year)):\n",
    "    classes_by_year[i] = assign_kids(kids, NUMBER_CLASSES)\n",
    "    \n",
    "print(classes_by_year)\n",
    "\n",
    "counts_of_classmates = [len(get_kids_with_this_kid(kid, classes_by_year)) for kid in kids]\n",
    "print(counts_of_classmates)\n",
    "\n",
    "plt.hist(counts_of_classmates)"
   ]
  },
  {
   "cell_type": "code",
   "execution_count": null,
   "metadata": {},
   "outputs": [],
   "source": []
  }
 ],
 "metadata": {
  "kernelspec": {
   "display_name": "Python 3",
   "language": "python",
   "name": "python3"
  },
  "language_info": {
   "codemirror_mode": {
    "name": "ipython",
    "version": 3
   },
   "file_extension": ".py",
   "mimetype": "text/x-python",
   "name": "python",
   "nbconvert_exporter": "python",
   "pygments_lexer": "ipython3",
   "version": "3.7.7"
  }
 },
 "nbformat": 4,
 "nbformat_minor": 4
}
